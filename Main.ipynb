{
 "cells": [
  {
   "cell_type": "code",
   "execution_count": 19,
   "outputs": [],
   "source": [
    "\n",
    "\n"
   ],
   "metadata": {
    "collapsed": false,
    "pycharm": {
     "name": "#%%\n",
     "is_executing": false
    }
   }
  },
  {
   "cell_type": "markdown",
   "source": [
    "# This Notebook is the starting of Capstone Project\n",
    "\n"
   ],
   "metadata": {
    "collapsed": false
   }
  },
  {
   "cell_type": "code",
   "execution_count": 20,
   "outputs": [
    {
     "name": "stdout",
     "text": [
      "Using matplotlib backend: MacOSX\n"
     ],
     "output_type": "stream"
    }
   ],
   "source": [
    "from pprint import pprint\n",
    "import random\n",
    "import numpy as np\n",
    "from textwrap import wrap\n",
    "from datetime import date, datetime\n",
    "import datetime as dt\n",
    "from xgboost import XGBClassifier\n",
    "from rfpimp import *\n",
    "import pandas as pd\n",
    "import researchpy as rp\n",
    "import matplotlib.pyplot as plt\n",
    "from Methods import *\n",
    "from Algorithms import *\n",
    "import seaborn as sns\n",
    "from sklearn.datasets import make_classification\n",
    "from geopy.distance import geodesic\n",
    "from imblearn.under_sampling import RandomUnderSampler\n",
    "from geopy.distance import great_circle\n",
    "from sklearn.ensemble import RandomForestClassifier\n",
    "from sklearn.metrics import roc_auc_score, accuracy_score, f1_score, confusion_matrix, plot_confusion_matrix\n",
    "from sklearn.model_selection import GridSearchCV, train_test_split\n",
    "%matplotlib\n",
    "FIGS_DIR = 'figs/'\n",
    "LabelName='SEVERITYCODE'\n",
    "\n",
    "\n"
   ],
   "metadata": {
    "collapsed": false,
    "pycharm": {
     "name": "#%%\n",
     "is_executing": false
    }
   }
  },
  {
   "cell_type": "code",
   "execution_count": 21,
   "outputs": [
    {
     "name": "stdout",
     "text": [
      "Hello Capstone Project Course!\n"
     ],
     "output_type": "stream"
    }
   ],
   "source": [
    "print('Hello Capstone Project Course!')"
   ],
   "metadata": {
    "collapsed": false,
    "pycharm": {
     "name": "#%% Main \n",
     "is_executing": false
    }
   }
  },
  {
   "cell_type": "code",
   "execution_count": 22,
   "outputs": [
    {
     "name": "stderr",
     "text": [
      "/Users/yazeed/.conda/envs/Test/lib/python3.7/site-packages/IPython/core/interactiveshell.py:3072: DtypeWarning: Columns (33) have mixed types.Specify dtype option on import or set low_memory=False.\n",
      "  interactivity=interactivity, compiler=compiler, result=result)\n"
     ],
     "output_type": "stream"
    }
   ],
   "source": [
    "INPUT_FILE='Data-Collisions.csv'\n",
    "df=pd.read_csv(INPUT_FILE)"
   ],
   "metadata": {
    "collapsed": false,
    "pycharm": {
     "name": "#%% Read File\n",
     "is_executing": false
    }
   }
  },
  {
   "cell_type": "code",
   "execution_count": 23,
   "outputs": [
    {
     "name": "stdout",
     "text": [
      "After Performing Under-sampling:\n"
     ],
     "output_type": "stream"
    }
   ],
   "source": [
    "buildFreqChart1(df,LabelName)\n",
    "df= underSample(df)\n",
    "#After Under-sampling\n",
    "print(\"After Performing Under-sampling:\")\n",
    "buildFreqChart1(df,LabelName)"
   ],
   "metadata": {
    "collapsed": false,
    "pycharm": {
     "name": "#%% Fix Class Imbalance\n",
     "is_executing": false
    }
   }
  },
  {
   "cell_type": "code",
   "execution_count": 24,
   "outputs": [
    {
     "name": "stdout",
     "text": [
      "Accidents with Invalid Time=48212\n"
     ],
     "output_type": "stream"
    }
   ],
   "source": [
    "df=  fixDate(df)"
   ],
   "metadata": {
    "collapsed": false,
    "pycharm": {
     "name": "#%% Fix date and add time and date features\n",
     "is_executing": false
    }
   }
  },
  {
   "cell_type": "code",
   "execution_count": 25,
   "outputs": [
    {
     "name": "stdout",
     "text": [
      "Correlation with WEATHER\n",
      "                 Chi-square test    results\n",
      "0  Pearson Chi-square ( 10.0) =   4523.9181\n",
      "1                     p-value =      0.0000\n",
      "2                  Cramer's V =      0.1996\n",
      "Correlation with COLLISIONTYPE\n",
      "                Chi-square test     results\n",
      "0  Pearson Chi-square ( 9.0) =   27081.8247\n",
      "1                    p-value =       0.0000\n",
      "2                 Cramer's V =       0.4881\n",
      "Correlation with ADDRTYPE\n",
      "                Chi-square test    results\n",
      "0  Pearson Chi-square ( 2.0) =   5139.3041\n",
      "1                    p-value =      0.0000\n",
      "2                 Cramer's V =      0.2110\n",
      "Correlation with ROADCOND\n",
      "                Chi-square test    results\n",
      "0  Pearson Chi-square ( 8.0) =   4621.1866\n",
      "1                    p-value =      0.0000\n",
      "2                 Cramer's V =      0.2017\n",
      "Correlation with LIGHTCOND\n",
      "                Chi-square test   results\n",
      "0  Pearson Chi-square ( 8.0) =   4404.701\n",
      "1                    p-value =      0.000\n",
      "2                 Cramer's V =      0.197\n",
      "Correlation with Hour\n",
      "                 Chi-square test   results\n",
      "0  Pearson Chi-square ( 24.0) =   423.4594\n",
      "1                     p-value =     0.0000\n",
      "2                  Cramer's V =     0.0603\n",
      "Correlation with Day\n",
      "                Chi-square test  results\n",
      "0  Pearson Chi-square ( 6.0) =   41.5373\n",
      "1                    p-value =    0.0000\n",
      "2                 Cramer's V =    0.0189\n",
      "Correlation with Month\n",
      "                 Chi-square test  results\n",
      "0  Pearson Chi-square ( 11.0) =   84.2237\n",
      "1                     p-value =    0.0000\n",
      "2                  Cramer's V =    0.0269\n",
      "Correlation with UNDERINFL\n",
      "                Chi-square test   results\n",
      "0  Pearson Chi-square ( 3.0) =   345.1425\n",
      "1                    p-value =     0.0000\n",
      "2                 Cramer's V =     0.0551\n"
     ],
     "output_type": "stream"
    }
   ],
   "source": [
    "# Keep important features\n",
    "\n",
    "catCols=['WEATHER','COLLISIONTYPE',\"ADDRTYPE\",'ROADCOND', 'LIGHTCOND','Hour', 'Day', 'Month', 'UNDERINFL']\n",
    "numCols= [\"PERSONCOUNT\", \"VEHCOUNT\", \"PEDCOUNT\", \"PEDCYLCOUNT\"]\n",
    "df = df.filter(catCols + numCols+ ['SEVERITYCODE'])\n",
    "\n",
    "for i in catCols:\n",
    "     buildFreqChart(df,i)\n",
    "     computeCorCat(df,i)\n",
    "\n",
    "df.describe()\n",
    "df.corr()\n",
    "\n",
    "for i in numCols:\n",
    "    buildBoxPlot(df,i)\n",
    "    \n",
    "\n",
    "\n",
    "\n",
    "\n"
   ],
   "metadata": {
    "collapsed": false,
    "pycharm": {
     "name": "#%% Analysis\n",
     "is_executing": false
    }
   }
  },
  {
   "cell_type": "code",
   "execution_count": 26,
   "outputs": [],
   "source": [
    "df['UNDERINFL'] = df['UNDERINFL'].replace(['1'],'Y')\n",
    "df['UNDERINFL'] = df['UNDERINFL'].replace(['0'],'N')\n",
    "# Fill missing values\n",
    "df[\"UNDERINFL\"] = df[\"UNDERINFL\"].fillna('N')\n",
    "df[\"ROADCOND\"] = df[\"ROADCOND\"].fillna('Dry')\n",
    "df[\"LIGHTCOND\"] = df[\"LIGHTCOND\"].fillna('Daylight')\n",
    "df[\"ADDRTYPE\"] = df[\"ADDRTYPE\"].fillna('Block')\n",
    "df=df.dropna(subset = ['COLLISIONTYPE'])\n",
    "for i in numCols:\n",
    "    df[i].fillna((df[i].mean()), inplace=True)\n",
    "# Remove Outliers\n",
    "df= df[df.PERSONCOUNT<9]\n",
    "df= df[df.VEHCOUNT<5]\n",
    "df= df[df.VEHCOUNT>0]\n",
    "df= df[df.PEDCOUNT<3]\n",
    "df= df[df.PEDCYLCOUNT<2]    \n",
    "df= df.drop(['WEATHER', 'Hour', 'Day', 'Month', 'UNDERINFL'], axis=1)\n"
   ],
   "metadata": {
    "collapsed": false,
    "pycharm": {
     "name": "#%% Preprocessing\n",
     "is_executing": false
    }
   }
  },
  {
   "cell_type": "code",
   "execution_count": 27,
   "outputs": [
    {
     "name": "stdout",
     "text": [
      "Features:\n",
      "PERSONCOUNT                           int64\n",
      "VEHCOUNT                              int64\n",
      "PEDCOUNT                              int64\n",
      "PEDCYLCOUNT                           int64\n",
      "SEVERITYCODE                          int64\n",
      "COLLISIONTYPE_Angles                  uint8\n",
      "COLLISIONTYPE_Cycles                  uint8\n",
      "COLLISIONTYPE_Head On                 uint8\n",
      "COLLISIONTYPE_Left Turn               uint8\n",
      "COLLISIONTYPE_Other                   uint8\n",
      "COLLISIONTYPE_Parked Car              uint8\n",
      "COLLISIONTYPE_Pedestrian              uint8\n",
      "COLLISIONTYPE_Rear Ended              uint8\n",
      "COLLISIONTYPE_Right Turn              uint8\n",
      "COLLISIONTYPE_Sideswipe               uint8\n",
      "ADDRTYPE_Alley                        uint8\n",
      "ADDRTYPE_Block                        uint8\n",
      "ADDRTYPE_Intersection                 uint8\n",
      "ROADCOND_Dry                          uint8\n",
      "ROADCOND_Ice                          uint8\n",
      "ROADCOND_Oil                          uint8\n",
      "ROADCOND_Other                        uint8\n",
      "ROADCOND_Sand/Mud/Dirt                uint8\n",
      "ROADCOND_Snow/Slush                   uint8\n",
      "ROADCOND_Standing Water               uint8\n",
      "ROADCOND_Unknown                      uint8\n",
      "ROADCOND_Wet                          uint8\n",
      "LIGHTCOND_Dark - No Street Lights     uint8\n",
      "LIGHTCOND_Dark - Street Lights Off    uint8\n",
      "LIGHTCOND_Dark - Street Lights On     uint8\n",
      "LIGHTCOND_Dark - Unknown Lighting     uint8\n",
      "LIGHTCOND_Dawn                        uint8\n",
      "LIGHTCOND_Daylight                    uint8\n",
      "LIGHTCOND_Dusk                        uint8\n",
      "LIGHTCOND_Other                       uint8\n",
      "LIGHTCOND_Unknown                     uint8\n",
      "dtype: object\n",
      "Start Training...\n",
      "{'bootstrap': [True],\n",
      " 'max_depth': [40],\n",
      " 'max_features': ['auto'],\n",
      " 'min_samples_leaf': [65],\n",
      " 'min_samples_split': [10],\n",
      " 'n_estimators': [64]}\n",
      "Fitting 10 folds for each of 1 candidates, totalling 10 fits\n",
      "{'bootstrap': True,\n",
      " 'max_depth': 40,\n",
      " 'max_features': 'auto',\n",
      " 'min_samples_leaf': 65,\n",
      " 'min_samples_split': 10,\n",
      " 'n_estimators': 64}\n",
      "0.6829041669733008\n",
      "0.6848606722206263\n",
      "0.707544654758731\n",
      "[[3576 2049]\n",
      " [1242 4386]]\n",
      "DONE\n"
     ],
     "output_type": "stream"
    },
    {
     "name": "stderr",
     "text": [
      "[Parallel(n_jobs=-3)]: Using backend LokyBackend with 6 concurrent workers.\n",
      "[Parallel(n_jobs=-3)]: Done   5 out of  10 | elapsed:    6.4s remaining:    6.4s\n",
      "[Parallel(n_jobs=-3)]: Done  10 out of  10 | elapsed:    9.2s finished\n"
     ],
     "output_type": "stream"
    }
   ],
   "source": [
    "df = pd.get_dummies(df)\n",
    "randomForest(df)\n",
    "print (\"DONE\")\n",
    "\n",
    "\n",
    "\n",
    "\n",
    "\n",
    "    \n",
    "\n",
    "\n",
    "\n",
    "\n",
    "\n",
    "\n",
    "\n",
    "\n",
    "\n",
    "\n",
    "\n",
    "\n",
    "\n",
    "\n",
    "\n",
    "\n",
    "\n",
    "\n"
   ],
   "metadata": {
    "collapsed": false,
    "pycharm": {
     "name": "#%% Build model and obtain results\n",
     "is_executing": false
    }
   }
  }
 ],
 "metadata": {
  "kernelspec": {
   "display_name": "Python 3",
   "language": "python",
   "name": "python3"
  },
  "language_info": {
   "codemirror_mode": {
    "name": "ipython",
    "version": 2
   },
   "file_extension": ".py",
   "mimetype": "text/x-python",
   "name": "python",
   "nbconvert_exporter": "python",
   "pygments_lexer": "ipython2",
   "version": "2.7.6"
  },
  "pycharm": {
   "stem_cell": {
    "cell_type": "raw",
    "source": [],
    "metadata": {
     "collapsed": false
    }
   }
  }
 },
 "nbformat": 4,
 "nbformat_minor": 0
}